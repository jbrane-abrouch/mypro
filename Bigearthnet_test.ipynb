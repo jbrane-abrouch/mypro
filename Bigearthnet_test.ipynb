{
  "nbformat": 4,
  "nbformat_minor": 0,
  "metadata": {
    "colab": {
      "name": "Bigearthnet test.ipynb",
      "provenance": [],
      "collapsed_sections": []
    },
    "kernelspec": {
      "name": "python3",
      "display_name": "Python 3"
    },
    "language_info": {
      "name": "python"
    }
  },
  "cells": [
    {
      "cell_type": "code",
      "metadata": {
        "id": "4MwLFII46aEM"
      },
      "source": [
        "\n",
        "import matplotlib.pyplot as plt\n",
        "import numpy as np\n",
        "import tensorflow as tf\n",
        "\n",
        "from osgeo import gdal\n",
        "from osgeo import gdalconst\n",
        "import tensorflow_datasets as tfds\n",
        "from __future__ import print_function\n",
        "\n",
        "SEED = 42\n",
        "\n",
        "import random as rn\n",
        "rn.seed(SEED)\n",
        "\n",
        "\n",
        "np.random.seed(SEED)\n",
        "\n",
        "tf.compat.v1.random.set_random_seed(SEED)\n",
        "\n",
        "import os\n",
        "import argparse\n",
        "import json\n",
        "import importlib\n",
        "\n",
        "import csv\n"
      ],
      "execution_count": null,
      "outputs": []
    },
    {
      "cell_type": "code",
      "metadata": {
        "colab": {
          "base_uri": "https://localhost:8080/"
        },
        "id": "f-d8Obsxq2JO",
        "outputId": "efc1034a-904c-4aec-f4a8-b3ca5cb69e8b"
      },
      "source": [
        "from google.colab import drive\n",
        "drive.mount('/content/drive')"
      ],
      "execution_count": null,
      "outputs": [
        {
          "output_type": "stream",
          "name": "stdout",
          "text": [
            "Drive already mounted at /content/drive; to attempt to forcibly remount, call drive.mount(\"/content/drive\", force_remount=True).\n"
          ]
        }
      ]
    },
    {
      "cell_type": "code",
      "metadata": {
        "id": "ilBCPCfaq9LI"
      },
      "source": [
        "data_path = 'drive/My Drive/Bigearthnet-MM19'"
      ],
      "execution_count": null,
      "outputs": []
    },
    {
      "cell_type": "code",
      "metadata": {
        "id": "I3mG7IAO6Yau"
      },
      "source": [
        "\n",
        "\n",
        "\n",
        "#Exigences ----------\n",
        "#1 Le dossier racine contenant les images brutes du jeu de données BigEarthNet-S1 téléchargé.\n",
        "#2 Le dossier racine contenant les images brutes du jeu de données BigEarthNet-S2 téléchargé.\n",
        "#3 Le dossier de sortie où les fichiers résultants seront créés\n",
        "#4 Une liste de fichiers CSV dont chacun contient les noms de patch du split correspondant.\n",
        "#5 Un indicateur pour indiquer que ce script modifiera également les fichiers json d'origine du BigEarthNet-MM en mettant à jour les étiquettes\n"
      ],
      "execution_count": null,
      "outputs": []
    },
    {
      "cell_type": "code",
      "metadata": {
        "id": "xNcp9mIY8QVi"
      },
      "source": [
        "# SAR band names to read related GeoTIFF files\n",
        "band_names_s1 = [\"VV\", \"VH\"]\n",
        "\n",
        "# Spectral band names to read related GeoTIFF files\n",
        "band_names_s2 = ['B01', 'B02', 'B03', 'B04', 'B05',\n",
        "                 'B06', 'B07', 'B08', 'B8A', 'B09', 'B11', 'B12']\n",
        "\n",
        "def prep_example(bands, BigEarthNet_19_labels, BigEarthNet_19_labels_multi_hot, patch_name_s1, patch_name_s2):\n",
        "    return tf.train.Example(\n",
        "            features=tf.train.Features(\n",
        "               feature={\n",
        "                    'B01': tf.train.Feature(\n",
        "                        int64_list=tf.train.Int64List(value=np.ravel(bands['B01']))),\n",
        "                    'B02': tf.train.Feature(\n",
        "                        int64_list=tf.train.Int64List(value=np.ravel(bands['B02']))),\n",
        "                    'B03': tf.train.Feature(\n",
        "                        int64_list=tf.train.Int64List(value=np.ravel(bands['B03']))),\n",
        "                    'B04': tf.train.Feature(\n",
        "                        int64_list=tf.train.Int64List(value=np.ravel(bands['B04']))),\n",
        "                    'B05': tf.train.Feature(\n",
        "                        int64_list=tf.train.Int64List(value=np.ravel(bands['B05']))),\n",
        "                    'B06': tf.train.Feature(\n",
        "                        int64_list=tf.train.Int64List(value=np.ravel(bands['B06']))),\n",
        "                    'B07': tf.train.Feature(\n",
        "                        int64_list=tf.train.Int64List(value=np.ravel(bands['B07']))),\n",
        "                    'B08': tf.train.Feature(\n",
        "                        int64_list=tf.train.Int64List(value=np.ravel(bands['B08']))),\n",
        "                    'B8A': tf.train.Feature(\n",
        "                        int64_list=tf.train.Int64List(value=np.ravel(bands['B8A']))),\n",
        "                    'B09': tf.train.Feature(\n",
        "                        int64_list=tf.train.Int64List(value=np.ravel(bands['B09']))),\n",
        "                    'B11': tf.train.Feature(\n",
        "                        int64_list=tf.train.Int64List(value=np.ravel(bands['B11']))),\n",
        "                    'B12': tf.train.Feature(\n",
        "                        int64_list=tf.train.Int64List(value=np.ravel(bands['B12']))),\n",
        "                    \"VV\":  tf.train.Feature(\n",
        "                        float_list=tf.train.FloatList(value=np.ravel(bands['VV']))),\n",
        "                    \"VH\":  tf.train.Feature(\n",
        "                        float_list=tf.train.FloatList(value=np.ravel(bands['VH']))),\n",
        "                    'BigEarthNet-19_labels': tf.train.Feature(\n",
        "                        bytes_list=tf.train.BytesList(\n",
        "                            value=[i.encode('utf-8') for i in BigEarthNet_19_labels])),\n",
        "                    'BigEarthNet-19_labels_multi_hot': tf.train.Feature(\n",
        "                        int64_list=tf.train.Int64List(value=BigEarthNet_19_labels_multi_hot)),\n",
        "                    'patch_name_s1': tf.train.Feature(\n",
        "                        bytes_list=tf.train.BytesList(value=[patch_name_s1.encode('utf-8')])),\n",
        "                    'patch_name_s2': tf.train.Feature(\n",
        "                        bytes_list=tf.train.BytesList(value=[patch_name_s2.encode('utf-8')]))\n",
        "                }))\n",
        "    \n",
        "def create_split(root_folder_s1, root_folder_s2, patch_names, TFRecord_writer, label_indices, GDAL_EXISTED, RASTERIO_EXISTED, UPDATE_JSON):\n",
        "    label_conversion = label_indices['label_conversion']\n",
        "    BigEarthNet_19_label_idx = {v: k for k, v in label_indices['BigEarthNet-19_labels'].items()}\n",
        "    if GDAL_EXISTED:\n",
        "        import gdal\n",
        "    elif RASTERIO_EXISTED:\n",
        "        import rasterio\n",
        "    progress_bar = tf.keras.utils.Progbar(target = len(patch_names))\n",
        "    for patch_idx, patch_name in enumerate(patch_names):\n",
        "        patch_name_s1, patch_name_s2 = patch_name[1], patch_name[0]\n",
        "        patch_folder_path_s1 = os.path.join(root_folder_s1, patch_name_s1)\n",
        "        patch_folder_path_s2 = os.path.join(root_folder_s2, patch_name_s2)\n",
        "\n",
        "        bands = {}\n",
        "        for band_name in band_names_s1:\n",
        "            band_path = os.path.join(\n",
        "                patch_folder_path_s1, patch_name_s1 + '_' + band_name + '.tif')\n",
        "            if GDAL_EXISTED:\n",
        "                band_ds = gdal.Open(band_path,  gdal.GA_ReadOnly)\n",
        "                raster_band = band_ds.GetRasterBand(1)\n",
        "                band_data = raster_band.ReadAsArray()\n",
        "                bands[band_name] = np.array(band_data)\n",
        "            elif RASTERIO_EXISTED:\n",
        "                band_ds = rasterio.open(band_path)\n",
        "                band_data = np.array(band_ds.read(1))\n",
        "                bands[band_name] = np.array(band_data)\n",
        "\n",
        "        for band_name in band_names_s2:\n",
        "            # First finds related GeoTIFF path and reads values as an array\n",
        "            band_path = os.path.join(\n",
        "                patch_folder_path_s2, patch_name_s2 + '_' + band_name + '.tif')\n",
        "            if GDAL_EXISTED:\n",
        "                band_ds = gdal.Open(band_path,  gdal.GA_ReadOnly)\n",
        "                raster_band = band_ds.GetRasterBand(1)\n",
        "                band_data = raster_band.ReadAsArray()\n",
        "                bands[band_name] = np.array(band_data)\n",
        "            elif RASTERIO_EXISTED:\n",
        "                band_ds = rasterio.open(band_path)\n",
        "                band_data = np.array(band_ds.read(1))\n",
        "                bands[band_name] = np.array(band_data)\n",
        "        \n",
        "        original_labels_multi_hot = np.zeros(\n",
        "            len(label_indices['original_labels'].keys()), dtype=int)\n",
        "        BigEarthNet_19_labels_multi_hot = np.zeros(len(label_conversion),dtype=int)\n",
        "        patch_json_path = os.path.join(\n",
        "            patch_folder_path_s1, patch_name + '_labels_metadata.json')\n",
        "\n",
        "        with open(patch_json_path, 'rb') as f:\n",
        "            patch_json = json.load(f)\n",
        "\n",
        "        original_labels = patch_json['labels']\n",
        "        for label in original_labels:\n",
        "            original_labels_multi_hot[label_indices['original_labels'][label]] = 1\n",
        "\n",
        "        for i in range(len(label_conversion)):\n",
        "            BigEarthNet_19_labels_multi_hot[i] = (\n",
        "                    np.sum(original_labels_multi_hot[label_conversion[i]]) > 0\n",
        "                ).astype(int)\n",
        "\n",
        "        BigEarthNet_19_labels = []\n",
        "        for i in np.where(BigEarthNet_19_labels_multi_hot == 1)[0]:\n",
        "            BigEarthNet_19_labels.append(BigEarthNet_19_label_idx[i])\n",
        "\n",
        "        if UPDATE_JSON:\n",
        "            patch_json['BigEarthNet_19_labels'] = BigEarthNet_19_labels\n",
        "            with open(patch_json_path, 'wb') as f:\n",
        "                json.dump(patch_json, f)\n",
        "# use of prep_example function\n",
        "        example = prep_example(\n",
        "            bands, \n",
        "            BigEarthNet_19_labels,\n",
        "            BigEarthNet_19_labels_multi_hot,\n",
        "            patch_name_s1, \n",
        "            patch_name_s2\n",
        "        )\n",
        "        TFRecord_writer.write(example.SerializeToString())\n",
        "        progress_bar.update(patch_idx)\n",
        "\n",
        "def prep_tf_record_files(root_folder_s1, root_folder_s2, out_folder, split_names, patch_names_list, label_indices, GDAL_EXISTED, RASTERIO_EXISTED, UPDATE_JSON):\n",
        "    \n",
        "    writer_list = []\n",
        "    for split_name in split_names:\n",
        "        writer_list.append(tf.compat.v1.python_io.TFRecordWriter(os.path.join(out_folder, split_name + '.tfrecord')))\n",
        "\n",
        "    for split_idx in range(len(patch_names_list)):\n",
        "        print('INFO: creating the split of', split_names[split_idx], 'is started')\n",
        "        create_split(\n",
        "            root_folder_s1, \n",
        "            root_folder_s2,\n",
        "            patch_names_list[split_idx], \n",
        "            writer_list[split_idx],\n",
        "            label_indices,\n",
        "            GDAL_EXISTED, \n",
        "            RASTERIO_EXISTED, \n",
        "            UPDATE_JSON\n",
        "            )\n",
        "        writer_list[split_idx].close()\n",
        "        \n"
      ],
      "execution_count": null,
      "outputs": []
    },
    {
      "cell_type": "code",
      "metadata": {
        "colab": {
          "base_uri": "https://localhost:8080/"
        },
        "id": "qt5RmDs3tV4b",
        "outputId": "f33b6f21-291a-40e4-af85-044378f8aa3d"
      },
      "source": [
        "   try:\n",
        "        writer_list = []\n",
        "        for split_name in split_names:\n",
        "            writer_list.append(\n",
        "                    tf.python_io.TFRecordWriter(os.path.join(\n",
        "                        out_folder, split_name + '.tfrecord'))\n",
        "                )\n",
        "   except:  \n",
        "        print('ERROR: TFRecord writer is not able to write files')\n",
        "        exit()"
      ],
      "execution_count": null,
      "outputs": [
        {
          "output_type": "stream",
          "name": "stdout",
          "text": [
            "ERROR: TFRecord writer is not able to write files\n"
          ]
        }
      ]
    },
    {
      "cell_type": "code",
      "metadata": {
        "colab": {
          "base_uri": "https://localhost:8080/",
          "height": 467
        },
        "id": "bGxD_Egu6d2F",
        "outputId": "5ea65e7e-6b0b-4d3e-bfbb-d5cdf907775d"
      },
      "source": [
        " #il faut d'abord initialiser les arguments du fonction !\n",
        "GDAL_EXISTED = True\n",
        "RASTERIO_EXISTED = False\n",
        "UPDATE_JSON = True\n",
        "###########\n",
        "root_folder_s1=data_path+'/data/mband'\n",
        "root_folder_s2=data_path+'/data/mband'\n",
        "out_folder=data_path+'/outf'\n",
        "split=data_path+'/splits'\n",
        "splits=[split+'/val.csv',split+'/train.csv',split+'/test.csv']\n",
        "\n",
        "for csv_file in splits:\n",
        "  print(csv_file)\n",
        "\n",
        "patch_names_list = []\n",
        "split_names = []\n",
        "for csv_file in splits:\n",
        "    patch_names_list.append([])\n",
        "    split_names.append(os.path.basename(csv_file).split('.')[0])\n",
        "    print(split_names)\n",
        "    with open(csv_file, 'r') as fp:\n",
        "        csv_reader = csv.reader(fp, delimiter=',')\n",
        "        for row in csv_reader:\n",
        "            patch_names_list[-1].append(row)\n",
        "\n",
        "\n",
        "\n",
        "\n",
        "\n",
        "with open(data_path+'/label_indices.json', 'rb') as f:\n",
        "    label_indices = json.load(f)\n",
        "\n",
        "\n",
        "\n",
        " prep_tf_record_files(root_folder_s1,root_folder_s2,out_folder,split_names,patch_names_list,label_indices,GDAL_EXISTED,RASTERIO_EXISTED,UPDATE_JSON)\n"
      ],
      "execution_count": null,
      "outputs": [
        {
          "output_type": "stream",
          "name": "stdout",
          "text": [
            "drive/My Drive/Bigearthnet-MM19/splits/val.csv\n",
            "drive/My Drive/Bigearthnet-MM19/splits/train.csv\n",
            "drive/My Drive/Bigearthnet-MM19/splits/test.csv\n",
            "['val']\n",
            "['val', 'train']\n",
            "['val', 'train', 'test']\n",
            "INFO: creating the split of val is started\n"
          ]
        },
        {
          "output_type": "error",
          "ename": "AttributeError",
          "evalue": "ignored",
          "traceback": [
            "\u001b[0;31m---------------------------------------------------------------------------\u001b[0m",
            "\u001b[0;31mAttributeError\u001b[0m                            Traceback (most recent call last)",
            "\u001b[0;32m<ipython-input-5-4ee1631b990a>\u001b[0m in \u001b[0;36m<module>\u001b[0;34m()\u001b[0m\n\u001b[1;32m     33\u001b[0m \u001b[0;34m\u001b[0m\u001b[0m\n\u001b[1;32m     34\u001b[0m \u001b[0;34m\u001b[0m\u001b[0m\n\u001b[0;32m---> 35\u001b[0;31m \u001b[0mprep_tf_record_files\u001b[0m\u001b[0;34m(\u001b[0m\u001b[0mroot_folder_s1\u001b[0m\u001b[0;34m,\u001b[0m\u001b[0mroot_folder_s2\u001b[0m\u001b[0;34m,\u001b[0m\u001b[0mout_folder\u001b[0m\u001b[0;34m,\u001b[0m\u001b[0msplit_names\u001b[0m\u001b[0;34m,\u001b[0m\u001b[0mpatch_names_list\u001b[0m\u001b[0;34m,\u001b[0m\u001b[0mlabel_indices\u001b[0m\u001b[0;34m,\u001b[0m\u001b[0mGDAL_EXISTED\u001b[0m\u001b[0;34m,\u001b[0m\u001b[0mRASTERIO_EXISTED\u001b[0m\u001b[0;34m,\u001b[0m\u001b[0mUPDATE_JSON\u001b[0m\u001b[0;34m)\u001b[0m\u001b[0;34m\u001b[0m\u001b[0;34m\u001b[0m\u001b[0m\n\u001b[0m",
            "\u001b[0;32m<ipython-input-4-d613455aa828>\u001b[0m in \u001b[0;36mprep_tf_record_files\u001b[0;34m(root_folder_s1, root_folder_s2, out_folder, split_names, patch_names_list, label_indices, GDAL_EXISTED, RASTERIO_EXISTED, UPDATE_JSON)\u001b[0m\n\u001b[1;32m    143\u001b[0m             \u001b[0mGDAL_EXISTED\u001b[0m\u001b[0;34m,\u001b[0m\u001b[0;34m\u001b[0m\u001b[0;34m\u001b[0m\u001b[0m\n\u001b[1;32m    144\u001b[0m             \u001b[0mRASTERIO_EXISTED\u001b[0m\u001b[0;34m,\u001b[0m\u001b[0;34m\u001b[0m\u001b[0;34m\u001b[0m\u001b[0m\n\u001b[0;32m--> 145\u001b[0;31m             \u001b[0mUPDATE_JSON\u001b[0m\u001b[0;34m\u001b[0m\u001b[0;34m\u001b[0m\u001b[0m\n\u001b[0m\u001b[1;32m    146\u001b[0m             )\n\u001b[1;32m    147\u001b[0m         \u001b[0mwriter_list\u001b[0m\u001b[0;34m[\u001b[0m\u001b[0msplit_idx\u001b[0m\u001b[0;34m]\u001b[0m\u001b[0;34m.\u001b[0m\u001b[0mclose\u001b[0m\u001b[0;34m(\u001b[0m\u001b[0;34m)\u001b[0m\u001b[0;34m\u001b[0m\u001b[0;34m\u001b[0m\u001b[0m\n",
            "\u001b[0;32m<ipython-input-4-d613455aa828>\u001b[0m in \u001b[0;36mcreate_split\u001b[0;34m(root_folder_s1, root_folder_s2, patch_names, TFRecord_writer, label_indices, GDAL_EXISTED, RASTERIO_EXISTED, UPDATE_JSON)\u001b[0m\n\u001b[1;32m     68\u001b[0m             \u001b[0;32mif\u001b[0m \u001b[0mGDAL_EXISTED\u001b[0m\u001b[0;34m:\u001b[0m\u001b[0;34m\u001b[0m\u001b[0;34m\u001b[0m\u001b[0m\n\u001b[1;32m     69\u001b[0m                 \u001b[0mband_ds\u001b[0m \u001b[0;34m=\u001b[0m \u001b[0mgdal\u001b[0m\u001b[0;34m.\u001b[0m\u001b[0mOpen\u001b[0m\u001b[0;34m(\u001b[0m\u001b[0mband_path\u001b[0m\u001b[0;34m,\u001b[0m  \u001b[0mgdal\u001b[0m\u001b[0;34m.\u001b[0m\u001b[0mGA_ReadOnly\u001b[0m\u001b[0;34m)\u001b[0m\u001b[0;34m\u001b[0m\u001b[0;34m\u001b[0m\u001b[0m\n\u001b[0;32m---> 70\u001b[0;31m                 \u001b[0mraster_band\u001b[0m \u001b[0;34m=\u001b[0m \u001b[0mband_ds\u001b[0m\u001b[0;34m.\u001b[0m\u001b[0mGetRasterBand\u001b[0m\u001b[0;34m(\u001b[0m\u001b[0;36m1\u001b[0m\u001b[0;34m)\u001b[0m\u001b[0;34m\u001b[0m\u001b[0;34m\u001b[0m\u001b[0m\n\u001b[0m\u001b[1;32m     71\u001b[0m                 \u001b[0mband_data\u001b[0m \u001b[0;34m=\u001b[0m \u001b[0mraster_band\u001b[0m\u001b[0;34m.\u001b[0m\u001b[0mReadAsArray\u001b[0m\u001b[0;34m(\u001b[0m\u001b[0;34m)\u001b[0m\u001b[0;34m\u001b[0m\u001b[0;34m\u001b[0m\u001b[0m\n\u001b[1;32m     72\u001b[0m                 \u001b[0mbands\u001b[0m\u001b[0;34m[\u001b[0m\u001b[0mband_name\u001b[0m\u001b[0;34m]\u001b[0m \u001b[0;34m=\u001b[0m \u001b[0mnp\u001b[0m\u001b[0;34m.\u001b[0m\u001b[0marray\u001b[0m\u001b[0;34m(\u001b[0m\u001b[0mband_data\u001b[0m\u001b[0;34m)\u001b[0m\u001b[0;34m\u001b[0m\u001b[0;34m\u001b[0m\u001b[0m\n",
            "\u001b[0;31mAttributeError\u001b[0m: 'NoneType' object has no attribute 'GetRasterBand'"
          ]
        }
      ]
    },
    {
      "cell_type": "markdown",
      "metadata": {
        "id": "nsS6DOHa6JxE"
      },
      "source": [
        "###Training"
      ]
    },
    {
      "cell_type": "code",
      "metadata": {
        "id": "ZF0Lukxu7IOK"
      },
      "source": [
        "class BigEarthNet:\n",
        "    def __init__(self, TFRecord_paths, batch_size, nb_epoch, shuffle_buffer_size, label_type):\n",
        "        self.label_type = label_type   \n",
        "        dataset = tf.data.TFRecordDataset(TFRecord_paths)\n",
        "        if shuffle_buffer_size > 0:\n",
        "            dataset = dataset.shuffle(buffer_size=shuffle_buffer_size)\n",
        "        dataset = dataset.repeat(nb_epoch)\n",
        "\n",
        "        dataset = dataset.map(\n",
        "            lambda x: self.parse_function(x, self.label_type), \n",
        "            num_parallel_calls=10\n",
        "        )\n",
        "\n",
        "        dataset = dataset.batch(batch_size, drop_remainder=False)\n",
        "        self.dataset = dataset.prefetch(10)\n",
        "        self.batch_iterator = self.dataset.make_one_shot_iterator()\n",
        "\n",
        "\n",
        "    def parse_function(self, example_proto, label_type):\n",
        "        nb_class = 43 if label_type == 'original' else 19\n",
        "\n",
        "        parsed_features = tf.parse_single_example(\n",
        "                example_proto, \n",
        "                {\n",
        "                    'B01': tf.FixedLenFeature([20*20], tf.int64),\n",
        "                    'B02': tf.FixedLenFeature([120*120], tf.int64),\n",
        "                    'B03': tf.FixedLenFeature([120*120], tf.int64),\n",
        "                    'B04': tf.FixedLenFeature([120*120], tf.int64),\n",
        "                    'B05': tf.FixedLenFeature([60*60], tf.int64),\n",
        "                    'B06': tf.FixedLenFeature([60*60], tf.int64),\n",
        "                    'B07': tf.FixedLenFeature([60*60], tf.int64),\n",
        "                    'B08': tf.FixedLenFeature([120*120], tf.int64),\n",
        "                    'B8A': tf.FixedLenFeature([60*60], tf.int64),\n",
        "                    'B09': tf.FixedLenFeature([20*20], tf.int64),\n",
        "                    'B11': tf.FixedLenFeature([60*60], tf.int64),\n",
        "                    'B12': tf.FixedLenFeature([60*60], tf.int64),\n",
        "                    'VV': tf.FixedLenFeature([120*120], tf.float32),\n",
        "                    'VH': tf.FixedLenFeature([120*120], tf.float32),\n",
        "                    'patch_name_s1': tf.io.VarLenFeature(dtype=tf.string),\n",
        "                    'patch_name_s2': tf.io.VarLenFeature(dtype=tf.string),\n",
        "                    label_type + '_labels': tf.VarLenFeature(dtype=tf.string),\n",
        "                    label_type + '_labels_multi_hot': tf.FixedLenFeature([nb_class], tf.int64)\n",
        "                }\n",
        "            )\n",
        "\n",
        "        return {\n",
        "            'B01': tf.reshape(parsed_features['B01'], [20, 20]),\n",
        "            'B02': tf.reshape(parsed_features['B02'], [120, 120]),\n",
        "            'B03': tf.reshape(parsed_features['B03'], [120, 120]),\n",
        "            'B04': tf.reshape(parsed_features['B04'], [120, 120]),\n",
        "            'B05': tf.reshape(parsed_features['B05'], [60, 60]),\n",
        "            'B06': tf.reshape(parsed_features['B06'], [60, 60]),\n",
        "            'B07': tf.reshape(parsed_features['B07'], [60, 60]),\n",
        "            'B08': tf.reshape(parsed_features['B08'], [120, 120]),\n",
        "            'B8A': tf.reshape(parsed_features['B8A'], [60, 60]),\n",
        "            'B09': tf.reshape(parsed_features['B09'], [20, 20]),\n",
        "            'B11': tf.reshape(parsed_features['B11'], [60, 60]),\n",
        "            'B12': tf.reshape(parsed_features['B12'], [60, 60]),\n",
        "            'VV' : tf.reshape(parsed_features['VV'], [120, 120]),\n",
        "            'VH' : tf.reshape(parsed_features['VV'], [120, 120]),\n",
        "            'patch_name_s1': parsed_features['patch_name_s1'],\n",
        "            'patch_name_s2': parsed_features['patch_name_s2'],\n",
        "            label_type + '_labels': parsed_features[label_type + '_labels'],\n",
        "            label_type + '_labels_multi_hot': parsed_features[label_type + '_labels_multi_hot']\n",
        "        }\n"
      ],
      "execution_count": null,
      "outputs": []
    },
    {
      "cell_type": "code",
      "metadata": {
        "id": "pkvvd_-A8ZHo"
      },
      "source": [
        "\n"
      ],
      "execution_count": null,
      "outputs": []
    },
    {
      "cell_type": "code",
      "metadata": {
        "id": "_cRBPw3g1bB7"
      },
      "source": [
        "import sys\n",
        "sys.path.append(data_path)\n",
        "from utils import get_metrics\n",
        "import BigEarthNet as ben"
      ],
      "execution_count": null,
      "outputs": []
    },
    {
      "cell_type": "code",
      "metadata": {
        "colab": {
          "base_uri": "https://localhost:8080/"
        },
        "id": "NDFwjcrh229h",
        "outputId": "66039338-7f36-414b-be16-192dd01d7b85"
      },
      "source": [
        "pip install --upgrade tf_slim"
      ],
      "execution_count": null,
      "outputs": [
        {
          "output_type": "stream",
          "name": "stdout",
          "text": [
            "Collecting tf_slim\n",
            "  Downloading tf_slim-1.1.0-py2.py3-none-any.whl (352 kB)\n",
            "\u001b[K     |████████████████████████████████| 352 kB 4.2 MB/s \n",
            "\u001b[?25hRequirement already satisfied: absl-py>=0.2.2 in /usr/local/lib/python3.7/dist-packages (from tf_slim) (0.12.0)\n",
            "Requirement already satisfied: six in /usr/local/lib/python3.7/dist-packages (from absl-py>=0.2.2->tf_slim) (1.15.0)\n",
            "Installing collected packages: tf-slim\n",
            "Successfully installed tf-slim-1.1.0\n"
          ]
        }
      ]
    },
    {
      "cell_type": "code",
      "metadata": {
        "id": "0axzGH-V6Mk7"
      },
      "source": [
        "with open(data_path+'/configs/base.json', 'rb') as f:\n",
        "        args = json.load(f)\n"
      ],
      "execution_count": null,
      "outputs": []
    },
    {
      "cell_type": "code",
      "metadata": {
        "id": "ck1mUUDwK1pt"
      },
      "source": [
        "import tensorflow.compat.v1 as tf\n",
        "tf.disable_v2_behavior()\n",
        "import tf_slim as contrib_slim\n",
        "slim = contrib_slim"
      ],
      "execution_count": null,
      "outputs": []
    },
    {
      "cell_type": "code",
      "metadata": {
        "colab": {
          "base_uri": "https://localhost:8080/"
        },
        "id": "zXGbSkHNIQ04",
        "outputId": "4bed9382-416d-40ff-bd8d-8d0d412bc6b1"
      },
      "source": [
        "!python /content/drive/MyDrive/Bigearthnet-MM19/models/main_model.py"
      ],
      "execution_count": null,
      "outputs": [
        {
          "output_type": "stream",
          "name": "stdout",
          "text": [
            "WARNING:tensorflow:From /usr/local/lib/python3.7/dist-packages/tensorflow/python/compat/v2_compat.py:101: disable_resource_variables (from tensorflow.python.ops.variable_scope) is deprecated and will be removed in a future version.\n",
            "Instructions for updating:\n",
            "non-resource variables are not supported in the long term\n",
            "Traceback (most recent call last):\n",
            "  File \"/content/drive/MyDrive/Bigearthnet-MM19/models/main_model.py\", line 13, in <module>\n",
            "    from content.drive.MyDrive.BigearthnetMM19.nets.resnet_utils import resnet_arg_scope\n",
            "ModuleNotFoundError: No module named 'content'\n"
          ]
        }
      ]
    },
    {
      "cell_type": "code",
      "metadata": {
        "id": "TahVTO0PTx4L"
      },
      "source": [
        "\n",
        "sys.path.append(data_path+'/models')\n",
        "import main_model"
      ],
      "execution_count": null,
      "outputs": []
    },
    {
      "cell_type": "code",
      "metadata": {
        "id": "guVbPXOS6OgG"
      },
      "source": [
        "import os\n",
        "os.environ['TF_CPP_MIN_LOG_LEVEL'] = '2'\n",
        "\n",
        "import tensorflow.compat.v1 as tf\n",
        "tf.disable_v2_behavior()\n",
        "\n",
        "def run_model(args):\n",
        "    with tf.Session() as sess:\n",
        "        iterator = BigEarthNet(\n",
        "            args['tr_tf_record_files'], \n",
        "            args['batch_size'], \n",
        "            args['nb_epoch'], \n",
        "            args['shuffle_buffer_size'],\n",
        "            args['label_type']\n",
        "        ).batch_iterator\n",
        "        nb_iteration = int(np.ceil(float(args['training_size'] * args['nb_epoch']) / args['batch_size']))\n",
        "        iterator_ins = iterator.get_next()\n",
        "\n",
        "        model = importlib.import_module('models.' + args['model_name']).DNN_model(args['label_type'], args['modality'])\n",
        "        model.create_network()\n",
        "        loss = model.define_loss()\n",
        "\n",
        "        update_ops = tf.get_collection(tf.GraphKeys.UPDATE_OPS)\n",
        "        with tf.control_dependencies(update_ops):\n",
        "            train_op = tf.train.AdamOptimizer(learning_rate=args['learning_rate']).minimize(loss)\n",
        "\n",
        "        variables_to_save = tf.global_variables()\n",
        "        _, metric_means, metric_update_ops = get_metrics(model.multi_hot_label, model.predictions, model.probabilities)\n",
        "        sess.run(tf.global_variables_initializer())\n",
        "        sess.run(tf.local_variables_initializer())\n",
        "\n",
        "        model_saver = tf.train.Saver(max_to_keep=0, var_list=variables_to_save)\n",
        "        iteration_idx = 0\n",
        "\n",
        "        if args['fine_tune']:\n",
        "            model_saver.restore(sess, args['model_file'])\n",
        "            if 'iteration' in args['model_file']:\n",
        "                iteration_idx = int(args['model_file'].split('iteration-')[-1])\n",
        "\n",
        "        summary_op = tf.summary.merge_all()\n",
        "        summary_writer = tf.summary.FileWriter(os.path.join(args['out_dir'], 'logs', 'training'), sess.graph)\n",
        "        \n",
        "        progress_bar = tf.contrib.keras.utils.Progbar(target = nb_iteration) \n",
        "        while True:\n",
        "            try:\n",
        "                batch_dict = sess.run(iterator_ins)\n",
        "            except tf.errors.OutOfRangeError:\n",
        "                break\n",
        "            _, _, batch_loss, batch_summary = sess.run([train_op, metric_update_ops, loss, summary_op], \n",
        "                                                        feed_dict = model.feed_dict(batch_dict, is_training=True))\n",
        "            iteration_idx += 1\n",
        "            summary_writer.add_summary(batch_summary, iteration_idx)\n",
        "            if (iteration_idx % args['save_checkpoint_per_iteration'] == 0) and (iteration_idx >= args['save_checkpoint_after_iteration']):\n",
        "                model_saver.save(sess, os.path.join(args['out_dir'], 'models', 'iteration'), iteration_idx)\n",
        "            progress_bar.update(iteration_idx, values=[('loss', batch_loss)])\n",
        "        model_saver.save(sess, os.path.join(args['out_dir'], 'models', 'iteration'), iteration_idx)\n",
        "\n"
      ],
      "execution_count": null,
      "outputs": []
    },
    {
      "cell_type": "code",
      "metadata": {
        "id": "K1Mfm5urZKej"
      },
      "source": [
        "\n",
        "sys.path.append(data_path+'/nets')\n",
        "import resnet_utils\n",
        "import resnet_v1"
      ],
      "execution_count": null,
      "outputs": []
    },
    {
      "cell_type": "code",
      "metadata": {
        "colab": {
          "base_uri": "https://localhost:8080/",
          "height": 311
        },
        "id": "pBDkuqHz6c1n",
        "outputId": "a32f25d5-ec63-4e05-ccf3-c600b7fc15a8"
      },
      "source": [
        "run_model(args)"
      ],
      "execution_count": null,
      "outputs": [
        {
          "output_type": "error",
          "ename": "AttributeError",
          "evalue": "ignored",
          "traceback": [
            "\u001b[0;31m---------------------------------------------------------------------------\u001b[0m",
            "\u001b[0;31mAttributeError\u001b[0m                            Traceback (most recent call last)",
            "\u001b[0;32m<ipython-input-36-b5c2776cdca7>\u001b[0m in \u001b[0;36m<module>\u001b[0;34m()\u001b[0m\n\u001b[0;32m----> 1\u001b[0;31m \u001b[0mrun_model\u001b[0m\u001b[0;34m(\u001b[0m\u001b[0margs\u001b[0m\u001b[0;34m)\u001b[0m\u001b[0;34m\u001b[0m\u001b[0;34m\u001b[0m\u001b[0m\n\u001b[0m",
            "\u001b[0;32m<ipython-input-29-dbf1cc0192a4>\u001b[0m in \u001b[0;36mrun_model\u001b[0;34m(args)\u001b[0m\n\u001b[1;32m     17\u001b[0m         \u001b[0miterator_ins\u001b[0m \u001b[0;34m=\u001b[0m \u001b[0miterator\u001b[0m\u001b[0;34m.\u001b[0m\u001b[0mget_next\u001b[0m\u001b[0;34m(\u001b[0m\u001b[0;34m)\u001b[0m\u001b[0;34m\u001b[0m\u001b[0;34m\u001b[0m\u001b[0m\n\u001b[1;32m     18\u001b[0m \u001b[0;34m\u001b[0m\u001b[0m\n\u001b[0;32m---> 19\u001b[0;31m         \u001b[0mmodel\u001b[0m \u001b[0;34m=\u001b[0m \u001b[0mimportlib\u001b[0m\u001b[0;34m.\u001b[0m\u001b[0mimport_module\u001b[0m\u001b[0;34m(\u001b[0m\u001b[0;34m'models.'\u001b[0m \u001b[0;34m+\u001b[0m \u001b[0margs\u001b[0m\u001b[0;34m[\u001b[0m\u001b[0;34m'model_name'\u001b[0m\u001b[0;34m]\u001b[0m\u001b[0;34m)\u001b[0m\u001b[0;34m.\u001b[0m\u001b[0mDNN_model\u001b[0m\u001b[0;34m(\u001b[0m\u001b[0margs\u001b[0m\u001b[0;34m[\u001b[0m\u001b[0;34m'label_type'\u001b[0m\u001b[0;34m]\u001b[0m\u001b[0;34m,\u001b[0m \u001b[0margs\u001b[0m\u001b[0;34m[\u001b[0m\u001b[0;34m'modality'\u001b[0m\u001b[0;34m]\u001b[0m\u001b[0;34m)\u001b[0m\u001b[0;34m\u001b[0m\u001b[0;34m\u001b[0m\u001b[0m\n\u001b[0m\u001b[1;32m     20\u001b[0m         \u001b[0mmodel\u001b[0m\u001b[0;34m.\u001b[0m\u001b[0mcreate_network\u001b[0m\u001b[0;34m(\u001b[0m\u001b[0;34m)\u001b[0m\u001b[0;34m\u001b[0m\u001b[0;34m\u001b[0m\u001b[0m\n\u001b[1;32m     21\u001b[0m         \u001b[0mloss\u001b[0m \u001b[0;34m=\u001b[0m \u001b[0mmodel\u001b[0m\u001b[0;34m.\u001b[0m\u001b[0mdefine_loss\u001b[0m\u001b[0;34m(\u001b[0m\u001b[0;34m)\u001b[0m\u001b[0;34m\u001b[0m\u001b[0;34m\u001b[0m\u001b[0m\n",
            "\u001b[0;32m/content/drive/My Drive/Bigearthnet-MM19/models/main_model.py\u001b[0m in \u001b[0;36m__init__\u001b[0;34m(self, label_type, modality)\u001b[0m\n\u001b[1;32m     20\u001b[0m         \u001b[0mself\u001b[0m\u001b[0;34m.\u001b[0m\u001b[0mlabel_type\u001b[0m \u001b[0;34m=\u001b[0m \u001b[0mlabel_type\u001b[0m\u001b[0;34m\u001b[0m\u001b[0;34m\u001b[0m\u001b[0m\n\u001b[1;32m     21\u001b[0m         \u001b[0mself\u001b[0m\u001b[0;34m.\u001b[0m\u001b[0mmodality\u001b[0m \u001b[0;34m=\u001b[0m \u001b[0mmodality\u001b[0m\u001b[0;34m\u001b[0m\u001b[0;34m\u001b[0m\u001b[0m\n\u001b[0;32m---> 22\u001b[0;31m         \u001b[0mself\u001b[0m\u001b[0;34m.\u001b[0m\u001b[0mprediction_threshold\u001b[0m \u001b[0;34m=\u001b[0m \u001b[0;36m0.5\u001b[0m\u001b[0;34m\u001b[0m\u001b[0;34m\u001b[0m\u001b[0m\n\u001b[0m\u001b[1;32m     23\u001b[0m         \u001b[0mself\u001b[0m\u001b[0;34m.\u001b[0m\u001b[0mis_training\u001b[0m \u001b[0;34m=\u001b[0m \u001b[0mtf\u001b[0m\u001b[0;34m.\u001b[0m\u001b[0mcompat\u001b[0m\u001b[0;34m.\u001b[0m\u001b[0mv1\u001b[0m\u001b[0;34m.\u001b[0m\u001b[0mplaceholder\u001b[0m\u001b[0;34m(\u001b[0m\u001b[0mtf\u001b[0m\u001b[0;34m.\u001b[0m\u001b[0mbool\u001b[0m\u001b[0;34m,\u001b[0m \u001b[0;34m[\u001b[0m\u001b[0;34m]\u001b[0m\u001b[0;34m)\u001b[0m\u001b[0;34m\u001b[0m\u001b[0;34m\u001b[0m\u001b[0m\n\u001b[1;32m     24\u001b[0m         \u001b[0mself\u001b[0m\u001b[0;34m.\u001b[0m\u001b[0mnb_class\u001b[0m \u001b[0;34m=\u001b[0m \u001b[0;36m19\u001b[0m \u001b[0;32mif\u001b[0m \u001b[0mlabel_type\u001b[0m \u001b[0;34m==\u001b[0m \u001b[0;34m'BigEarthNet-19'\u001b[0m \u001b[0;32melse\u001b[0m \u001b[0;36m43\u001b[0m\u001b[0;34m\u001b[0m\u001b[0;34m\u001b[0m\u001b[0m\n",
            "\u001b[0;31mAttributeError\u001b[0m: module 'tensorflow' has no attribute 'placeholder'"
          ]
        }
      ]
    },
    {
      "cell_type": "markdown",
      "metadata": {
        "id": "wX6CCTc275K1"
      },
      "source": [
        ""
      ]
    },
    {
      "cell_type": "code",
      "metadata": {
        "id": "ofgOrTyE75lY"
      },
      "source": [
        ""
      ],
      "execution_count": null,
      "outputs": []
    }
  ]
}